{
 "cells": [
  {
   "cell_type": "code",
   "execution_count": null,
   "id": "3362b42f",
   "metadata": {},
   "outputs": [
    {
     "data": {
      "application/vnd.jupyter.widget-view+json": {
       "model_id": "aaea228b19384e5cb97509d8e98f8b5a",
       "version_major": 2,
       "version_minor": 0
      },
      "text/plain": [
       "Dropdown(description='Mic:', options=(('Brandon’s iPhone (2) Microphone', 0), ('MacBook Pro Microphone', 1), (…"
      ]
     },
     "metadata": {},
     "output_type": "display_data"
    },
    {
     "data": {
      "application/vnd.jupyter.widget-view+json": {
       "model_id": "9b463a796ee94957a953d053f856bd3e",
       "version_major": 2,
       "version_minor": 0
      },
      "text/plain": [
       "Button(button_style='success', description='Record', icon='microphone', style=ButtonStyle())"
      ]
     },
     "metadata": {},
     "output_type": "display_data"
    },
    {
     "data": {
      "application/vnd.jupyter.widget-view+json": {
       "model_id": "48ab906f5549470aa7f17beac05b98f5",
       "version_major": 2,
       "version_minor": 0
      },
      "text/plain": [
       "Button(button_style='warning', description='Stop', icon='stop', style=ButtonStyle())"
      ]
     },
     "metadata": {},
     "output_type": "display_data"
    },
    {
     "data": {
      "application/vnd.jupyter.widget-view+json": {
       "model_id": "42d17babdd124ace80a3d4e158251541",
       "version_major": 2,
       "version_minor": 0
      },
      "text/plain": [
       "Button(button_style='info', description='Summarize', style=ButtonStyle())"
      ]
     },
     "metadata": {},
     "output_type": "display_data"
    },
    {
     "data": {
      "application/vnd.jupyter.widget-view+json": {
       "model_id": "2af59161b11b49059fb22b4ec6948406",
       "version_major": 2,
       "version_minor": 0
      },
      "text/plain": [
       "Textarea(value='', description='Live Transcript', layout=Layout(height='200px', width='100%'))"
      ]
     },
     "metadata": {},
     "output_type": "display_data"
    },
    {
     "data": {
      "application/vnd.jupyter.widget-view+json": {
       "model_id": "7d96a6fd24ed42d0af368dcddd67fab0",
       "version_major": 2,
       "version_minor": 0
      },
      "text/plain": [
       "Text(value='', description='Ask a Question: ', layout=Layout(width='600px'), placeholder='[Press Enter To Subm…"
      ]
     },
     "metadata": {},
     "output_type": "display_data"
    },
    {
     "data": {
      "application/vnd.jupyter.widget-view+json": {
       "model_id": "a4b0b1452fc5414983a1a56ffb8a3d60",
       "version_major": 2,
       "version_minor": 0
      },
      "text/plain": [
       "Output()"
      ]
     },
     "metadata": {},
     "output_type": "display_data"
    },
    {
     "data": {
      "application/vnd.jupyter.widget-view+json": {
       "model_id": "3b2173fbd205416983cfec06ab87e21c",
       "version_major": 2,
       "version_minor": 0
      },
      "text/plain": [
       "Text(value='Recording started...')"
      ]
     },
     "metadata": {},
     "output_type": "display_data"
    },
    {
     "data": {
      "application/vnd.jupyter.widget-view+json": {
       "model_id": "f2513c53f416455fa2de7b525c71ea2d",
       "version_major": 2,
       "version_minor": 0
      },
      "text/plain": [
       "Text(value='Recording stopped.')"
      ]
     },
     "metadata": {},
     "output_type": "display_data"
    },
    {
     "name": "stdout",
     "output_type": "stream",
     "text": [
      "Stopped recording.\n"
     ]
    }
   ],
   "source": [
    "import ipywidgets as widgets\n",
    "from IPython.display import display\n",
    "import threading\n",
    "import pyaudio\n",
    "from meeting_summarizer import MeetingSummarizer\n",
    "\n",
    "summarizer = MeetingSummarizer()\n",
    "\n",
    "# =============== Mic Selectgion ===============\n",
    "\n",
    "def choose_mic():\n",
    "    p = pyaudio.PyAudio()\n",
    "    mic_options = []\n",
    "\n",
    "    for i in range(p.get_device_count()):\n",
    "        mic_name = p.get_device_info_by_host_api_device_index(0, i).get('name')\n",
    "        mic_options.append((mic_name, i))\n",
    "\n",
    "    p.terminate()\n",
    "    return mic_options\n",
    "\n",
    "mic_dropdown = widgets.Dropdown(\n",
    "    options=choose_mic(),\n",
    "    description='Mic:',\n",
    "    disabled=False,\n",
    ")\n",
    "display(mic_dropdown)\n",
    "\n",
    "# =============== Buttons/Indicators ===============\n",
    "\n",
    "summary_output = widgets.Output(\n",
    "    layout={'border': '1px solid gray',\n",
    "            'width': '100%',\n",
    "            'height': '300px',\n",
    "            'overflow_y': 'auto',\n",
    "            'white_space': 'pre-wrap',  # enables wrapping\n",
    "            'word_break': 'break-word'\n",
    "            }\n",
    ")\n",
    "\n",
    "def summary_click(b):\n",
    "    summary_indicator.layout.display = 'block'\n",
    "    with summary_output:\n",
    "        summary_output.clear_output() \n",
    "        summarizer.display_summary()\n",
    "        \n",
    "    display(summary_output)\n",
    "\n",
    "# Buttons have functionality; indicators display text\n",
    "\n",
    "# =============== Start Recording ===============\n",
    "\n",
    "record_button = widgets.Button(\n",
    "    description='Record', disabled=False, button_style='success', icon='microphone')\n",
    "\n",
    "start_indicator = widgets.Text(value='Recording started...', disabled=False)\n",
    "\n",
    "def start_click(b):\n",
    "    mic_index = mic_dropdown.value\n",
    "    display(start_indicator)\n",
    "    def run_start():\n",
    "        summarizer.start_recording(mic_index)\n",
    "\n",
    "    record_thread = threading.Thread(target=run_start)\n",
    "    record_thread.start()\n",
    "\n",
    "    poll_transcript_queue(summarizer.recorder, summarizer)\n",
    "\n",
    "# =============== Stop Recording ===============\n",
    "\n",
    "stop_button = widgets.Button(\n",
    "    description='Stop', disabled=False, button_style='warning', icon='stop')\n",
    "\n",
    "stop_indicator = widgets.Text(value='Recording stopped.', disabled=False)\n",
    "\n",
    "def stop_click(b):\n",
    "    display(stop_indicator)\n",
    "    summarizer.end_recording()\n",
    "\n",
    "# =============== Summarize ===============\n",
    "\n",
    "summary_button = widgets.Button(\n",
    "    description='Summarize', disabled=False, button_style='info')\n",
    "\n",
    "summary_indicator = widgets.Text(value='Summary started...', disabled=False)\n",
    "summary_output = widgets.Output()\n",
    "\n",
    "def summary_click(b):\n",
    "    summary_indicator.layout.display = 'block'\n",
    "    with summary_output:\n",
    "        summary_output.clear_output() \n",
    "        summarizer.display_summary()\n",
    "        \n",
    "    display(summary_output)\n",
    "\n",
    "# =============== Ask Question (User Input) ===============\n",
    "\n",
    "question_indicator = widgets.Text(\n",
    "    value='',\n",
    "    placeholder='[Press Enter To Submit]',\n",
    "    description='Ask a Question: ',\n",
    "    disabled=False,\n",
    "    layout=widgets.Layout(width='600px')\n",
    ")\n",
    "\n",
    "question_output = widgets.Output()\n",
    "\n",
    "def ask_click(b, width=100):\n",
    "    question = question_indicator.value.strip()\n",
    "    if not question:\n",
    "        print(\"Failed To Recieve Question.\")\n",
    "    answer = summarizer.ask(question)\n",
    "\n",
    "    # print('Answering...')\n",
    "    with question_output:\n",
    "        question_output.clear_output()\n",
    "        print(f'You Asked: {question}')\n",
    "\n",
    "        print(answer)\n",
    "\n",
    "# =============== Live Output ===============\n",
    "live_output_box = widgets.Textarea(\n",
    "    value='',\n",
    "    description='Live Transcript',\n",
    "    layout=widgets.Layout(width='100%', height='200px')\n",
    ")\n",
    "\n",
    "def poll_transcript_queue(recorder, summarizer):\n",
    "    if not summarizer.poll_timer:\n",
    "        summarizer.poll_timer == None\n",
    "\n",
    "    def poll():\n",
    "        while not recorder.queue.empty():\n",
    "            new_text = recorder.queue.get()\n",
    "            live_output_box.value += new_text.strip('\"text\"') + '\\n'\n",
    "        if (recorder.is_recording()):\n",
    "            # Calls poll() every 0.5 sec, writes new text every 0.5 sec\n",
    "            timer = threading.Timer(0.5, poll)\n",
    "            timer.start()\n",
    "\n",
    "    poll()\n",
    "\n",
    "# =============== Display/Function Calls ===============\n",
    "\n",
    "display(record_button, stop_button, summary_button)\n",
    "display(live_output_box)\n",
    "\n",
    "record_button.on_click(start_click)\n",
    "stop_button.on_click(stop_click)\n",
    "question_indicator.on_submit(ask_click)\n",
    "display(question_indicator)\n",
    "display(question_output)\n",
    "# question_button.on_click(question_click)\n",
    "# submit_button.on_click(ask_click)\n",
    "summary_button.on_click(summary_click)"
   ]
  },
  {
   "cell_type": "markdown",
   "id": "b7c22d5d",
   "metadata": {},
   "source": []
  }
 ],
 "metadata": {
  "kernelspec": {
   "display_name": "Python 3",
   "language": "python",
   "name": "python3"
  },
  "language_info": {
   "codemirror_mode": {
    "name": "ipython",
    "version": 3
   },
   "file_extension": ".py",
   "mimetype": "text/x-python",
   "name": "python",
   "nbconvert_exporter": "python",
   "pygments_lexer": "ipython3",
   "version": "3.13.2"
  }
 },
 "nbformat": 4,
 "nbformat_minor": 5
}
